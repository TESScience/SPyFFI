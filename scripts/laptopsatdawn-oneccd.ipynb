{
 "cells": [
  {
   "cell_type": "code",
   "execution_count": 1,
   "metadata": {
    "collapsed": false
   },
   "outputs": [
    {
     "name": "stdout",
     "output_type": "stream",
     "text": [
      "\n",
      "An instance of ds9 was found to be running before we could\n",
      "start the 'xpans' name server. You will need to perform a\n",
      "bit of manual intervention in order to connect this\n",
      "existing ds9 to Python.\n",
      "\n",
      "For ds9 version 5.7 and beyond, simply register the\n",
      "existing ds9 with the xpans name server by selecting the\n",
      "ds9 File->XPA->Connect menu option. Your ds9 will now be\n",
      "fully accessible to pyds9 (e.g., it appear in the list\n",
      "returned by the ds9_targets() routine).\n",
      "\n",
      "For ds9 versions prior to 5.7, you cannot (easily) register\n",
      "with xpans, but you can view ds9's File->XPA Information\n",
      "menu option and pass the value associated with XPA_METHOD\n",
      "directly to the Python DS9() constructor, e.g.:\n",
      "\n",
      "    d = DS9('a000101:12345')\n",
      "\n",
      "The good news is that new instances of ds9 will be\n",
      "registered with xpans, and will be known to ds9_targets()\n",
      "and the DS9() constructor.\n",
      "\n"
     ]
    }
   ],
   "source": [
    "# import a tool that allows you to create different kinds of TESS observations\n",
    "from SPyFFI import Observation"
   ]
  },
  {
   "cell_type": "code",
   "execution_count": 2,
   "metadata": {
    "collapsed": false
   },
   "outputs": [],
   "source": [
    "inputs = dict(\n",
    "\n",
    "# these are necessary to specify\n",
    "label='laptopsatdawn_rotated',                # a label that will go into the output directory name\n",
    "ra = 270.000, dec=66.56071,           # coordinates of the focal plane center\n",
    "jitter=True,                          # should the spacecraft jitter?\n",
    "\n",
    "# what outputs should be produced?\n",
    "todo={1800:1},                       # this will expose 100 images each at 120s cadences\n",
    "\n",
    "# these options are optional, and can make for interesting movies\n",
    "jitterscale=1.0,                      # by what factor should we magnify the jitter?\n",
    "warpspaceandtime=1.0,                 # by what factor do we multiply the speed of light (to see DVA)\n",
    "counterstep=1,                        # how many cadences (of the specified cadence) do we skip per frame? (to speed up time)\n",
    "\n",
    "# these options relate to how stars are populated with light curves\n",
    "fmax=0.00,                            # what fraction of eligible stars should get light curves\n",
    "magmax=None,                          # stars fainter than this magnitude don't get light curves\n",
    "extreme=False                        # if set to true, varaibility will be extreme (for movies)\n",
    ")\n"
   ]
  },
  {
   "cell_type": "code",
   "execution_count": 3,
   "metadata": {
    "collapsed": false
   },
   "outputs": [
    {
     "name": "stdout",
     "output_type": "stream",
     "text": [
      "       [skyffi] Creating a new Observation.\n",
      "       [skyffi] Setting up the camera for this Observation.\n",
      "       [camera] Turning on a new TESS camera object.\n",
      "       [camera] Setting cadence to 2 seconds = 1.0 reads.\n",
      "       [camera] Pointing the camera at (ra,dec) = 270.000000,66.560710\n",
      "          [psf] Initializing the TESS point spread function painter.\n",
      "          [psf] loaded PSF subpixel array definitions from\n",
      "                ... /Users/zkbt/Cosmos/Data/TESS/FFIs/intermediates/original/pixelarrays.npy\n",
      "      [perfect] Creating an intrapixel sensitivity map called perfectpixels\n",
      "       [jitter] Populating the jitterball for 2 second cadence.\n",
      "        [ucac4] loading a catalog of stars from\n",
      "                ... /Users/zkbt/Cosmos/Data/TESS/FFIs/intermediates/UCAC4_270.0_66.56071_17.70346373\n",
      "                ... 75.npy\n",
      "        [ucac4] found 1420240 stars with 2.23799991608 < V < 17.5189990997\n"
     ]
    }
   ],
   "source": [
    "# create a FFI of a particular patch of the sky, using catalog stars\n",
    "obs = Observation.SkyFFI(**inputs)"
   ]
  },
  {
   "cell_type": "code",
   "execution_count": 4,
   "metadata": {
    "collapsed": false
   },
   "outputs": [
    {
     "name": "stdout",
     "output_type": "stream",
     "text": [
      "        [ucac4] 1420240 stars are brighter than 18.258999059; populating 0.0% of them with light\n",
      "                ... curves\n"
     ]
    }
   ],
   "source": [
    "# add light curves to this observation's stellar catalog\n",
    "obs.addLCs(**inputs)"
   ]
  },
  {
   "cell_type": "code",
   "execution_count": 5,
   "metadata": {
    "collapsed": false
   },
   "outputs": [
    {
     "name": "stdout",
     "output_type": "stream",
     "text": [
      "\n",
      "closest to camera center\n",
      "ccd1 (x, y) = (0,0) pixels\n",
      "focalplane (x, y) = (67.1666666667,67.1666666667) pixels\n",
      "celestial (ra, dec) = (268.994488427,66.9511964863) degrees\n",
      "\n",
      "farthest from camera center\n",
      "ccd1 (x, y) = (2047,2047) pixels\n",
      "focalplane (x, y) = (2114.16666667,2114.16666667) pixels\n",
      "celestial (ra, dec) = (222.669197832,73.6638867596) degrees\n",
      "\n",
      "the other two corners\n",
      "ccd1 (x, y) = (0,2047) pixels\n",
      "focalplane (x, y) = (67.1666666667,2114.16666667) pixels\n",
      "celestial (ra, dec) = (268.026038279,78.7576281934) degrees\n",
      "ccd1 (x, y) = (2047,0) pixels\n",
      "focalplane (x, y) = (2114.16666667,67.1666666667) pixels\n",
      "celestial (ra, dec) = (241.081462018,64.0794447339) degrees\n"
     ]
    }
   ],
   "source": [
    "# figure out the corners of the CCD\n",
    "carto = obs.camera.cartographer\n",
    "carto.setCCD(obs.camera.ccds[0])\n",
    "carto.pithy = True\n",
    "\n",
    "# the corner closest to the \n",
    "def report(x,y):\n",
    "    c = carto.point(x,y,'ccdxy')\n",
    "    print \"{0} pixels\".format(c.ccdxy)\n",
    "    print \"{0} pixels\".format(c.focalxy)\n",
    "    print \"{0} degrees\".format(c.celestial)\n",
    "\n",
    "\n",
    "\n",
    "print \"\\nclosest to camera center\"\n",
    "report(0,0)\n",
    "\n",
    "print \"\\nfarthest from camera center\"\n",
    "report(2047,2047)\n",
    "\n",
    "print \"\\nthe other two corners\"\n",
    "report(0,2047)\n",
    "report(2047,0)\n",
    "\n"
   ]
  },
  {
   "cell_type": "code",
   "execution_count": 6,
   "metadata": {
    "collapsed": false
   },
   "outputs": [
    {
     "name": "stdout",
     "output_type": "stream",
     "text": [
      "focalplane (r, theta) = (2989.88317312,0.785398163397)\n",
      "focalplane (r, theta) = (2904.11265835,1.58452088078)\n",
      "PT's coordinates are at ccd1 (x, y) = (1986.35108739,1986.35108738) on my CCD.\n"
     ]
    }
   ],
   "source": [
    "# this is PT's outermost corner\n",
    "ZKBT = carto.point(2047, 2047, 'ccdxy')\n",
    "print ZKBT.focalrtheta\n",
    "PT = carto.point(271.8645990732, 83.1011559323114, 'celestial')\n",
    "print PT.focalrtheta\n",
    "\n",
    "import numpy as np\n",
    "#rotation = (PT.focalrtheta.theta - ZKBT.focalrtheta.theta)*180/np.pi\n",
    "rotation = 45.7863590193\n",
    "\n",
    "\n",
    "# this rotates the WCS to align the two orientations\n",
    "obs.camera.wcs.wcs.crota = -np.array([rotation, rotation])\n",
    "\n",
    "# now, PT's coordinates should appear at the top right of my ccd\n",
    "print \"PT's coordinates are at {0} on my CCD.\".format(carto.point(271.8645990732, 83.1011559323114, 'celestial').ccdxy)\n"
   ]
  },
  {
   "cell_type": "code",
   "execution_count": 7,
   "metadata": {
    "collapsed": false
   },
   "outputs": [
    {
     "name": "stdout",
     "output_type": "stream",
     "text": [
      "       [camera] Setting cadence to 1800 seconds = 900.0 reads.\n",
      "       [jitter] Populating the jitterball for 1800 second cadence.\n",
      "       [jitter] Jittering the camera to 0.0174121180164,0.0102261562642,-0.0302088720421 away from\n",
      "                ... nominal pointing.\n",
      "          [ccd] Adding stars.\n",
      "          [ccd] projecting the starmap onto CCD\n",
      "          [ccd] setting up this CCD's starmap\n",
      "          [ccd] the camera already had a catalog of 1420240 elements defined; using it!\n",
      "          [ccd] taking an intial snapshot at 2457827.0 = 2017.20054757\n",
      "        [ucac4] projecting catalog 17.201 years relative to 2000\n",
      "          [ccd]   done!\n",
      "      [trimmed] projecting catalog 17.201 years relative to 2000\n",
      "      [trimmed] save projected star catalog /Users/zkbt/Cosmos/Data/TESS/FFIs/outputs/18h00m00s+66d3\n",
      "                ... 3m39s_laptopsatdawn_rotated/1800s/ccd1/catalog_18h00m00s+66d33m39s_ccd1.txt\n",
      "          [ccd] taking a snapshot at 2457827.0 = 2017.20054757\n",
      "      [trimmed] projecting catalog 17.201 years relative to 2000\n",
      "          [ccd]   done!\n",
      "          [ccd] adding 167795 stars to image\n",
      "          [psf] loaded binned PSFs from /Users/zkbt/Cosmos/Data/TESS/FFIs/intermediates/original/pix\n",
      "                ... elizedlibrary_1800s_10radii_21offsets_10degrees_10000K_perfectpixels.npy\n",
      "          [ccd] Adding backgrounds.\n",
      "          [ccd] trying to load image from /Users/zkbt/Cosmos/Data/TESS/FFIs/outputs/18h00m00s+66d33m\n",
      "                ... 39s_laptopsatdawn_rotated/1800s/ccd1/backgrounds.fits\n",
      "          [ccd]        ...success!\n",
      "          [ccd] saving noiseless TESS image\n",
      "          [ccd] saving 2048x2048 image to /Users/zkbt/Cosmos/Data/TESS/FFIs/outputs/18h00m00s+66d33m\n",
      "                ... 39s_laptopsatdawn_rotated/1800s/ccd1/noiseless_18h00m00s+66d33m39s_ccd1_000000.f\n",
      "                ... its with type int32\n",
      "          [ccd] Adding photon noise [sqrt(photons from stars and various backgrounds)].\n",
      "          [ccd] Adding cosmic rays\n",
      "          [ccd] saving 2048x2048 image to /Users/zkbt/Cosmos/Data/TESS/FFIs/outputs/18h00m00s+66d33m\n",
      "                ... 39s_laptopsatdawn_rotated/1800s/ccd1/cosmics_18h00m00s+66d33m39s_ccd1_000000.fit\n",
      "                ... s with type float32\n",
      "          [ccd] Adding readout smear.\n",
      "          [ccd]     assuming 0.05 second readout times on 2.0 second exposures.\n",
      "          [ccd] Bleeding saturated pixels.\n",
      "          [ccd] on pass #1 through saturation filter: the max saturation fraction is 1.74990298769;\n",
      "                ... and the flux change over entire image is 0.0001220703125 electrons\n",
      "          [ccd] on pass #2 through saturation filter: the max saturation fraction is 1.08562912671;\n",
      "                ... and the flux change over entire image is 0.0001220703125 electrons\n",
      "          [ccd] on pass #3 through saturation filter: the max saturation fraction is 1.0; and the\n",
      "                ... flux change over entire image is 0.0001220703125 electrons\n",
      "          [ccd] Adding read noise.\n",
      "          [ccd]     = quadrature sum of [1800 seconds]/[2.0 seconds] = 900.0 reads with 10.0 e-\n",
      "                ... each.\n",
      "          [ccd] saving final TESS image\n",
      "          [ccd] saving 2048x2048 image to /Users/zkbt/Cosmos/Data/TESS/FFIs/outputs/18h00m00s+66d33m\n",
      "                ... 39s_laptopsatdawn_rotated/1800s/ccd1/simulated_18h00m00s+66d33m39s_ccd1_000000.f\n",
      "                ... its with type int32\n",
      "          [ccd] created image #0000000 of 18h00m00s+66d33m39s with 1800s cadence\n"
     ]
    }
   ],
   "source": [
    "# create the observation, generating all exposures\n",
    "obs.camera.ccds = [obs.camera.ccds[0]]\n",
    "obs.create(**inputs)"
   ]
  },
  {
   "cell_type": "code",
   "execution_count": 8,
   "metadata": {
    "collapsed": false
   },
   "outputs": [],
   "source": [
    "c = obs.camera.ccds[0]\n",
    "c.expose?"
   ]
  },
  {
   "cell_type": "code",
   "execution_count": 9,
   "metadata": {
    "collapsed": false
   },
   "outputs": [
    {
     "data": {
      "text/plain": [
       "<bound method CCD.expose of <SPyFFI.CCD.CCD object at 0x10f804c50>>"
      ]
     },
     "execution_count": 9,
     "metadata": {},
     "output_type": "execute_result"
    }
   ],
   "source": []
  },
  {
   "cell_type": "code",
   "execution_count": null,
   "metadata": {
    "collapsed": true
   },
   "outputs": [],
   "source": []
  },
  {
   "cell_type": "code",
   "execution_count": null,
   "metadata": {
    "collapsed": true
   },
   "outputs": [],
   "source": []
  },
  {
   "cell_type": "code",
   "execution_count": null,
   "metadata": {
    "collapsed": true
   },
   "outputs": [],
   "source": []
  },
  {
   "cell_type": "code",
   "execution_count": null,
   "metadata": {
    "collapsed": true
   },
   "outputs": [],
   "source": []
  },
  {
   "cell_type": "code",
   "execution_count": null,
   "metadata": {
    "collapsed": true
   },
   "outputs": [],
   "source": []
  },
  {
   "cell_type": "code",
   "execution_count": null,
   "metadata": {
    "collapsed": true
   },
   "outputs": [],
   "source": []
  },
  {
   "cell_type": "code",
   "execution_count": null,
   "metadata": {
    "collapsed": true
   },
   "outputs": [],
   "source": []
  }
 ],
 "metadata": {
  "kernelspec": {
   "display_name": "Python 2",
   "language": "python",
   "name": "python2"
  },
  "language_info": {
   "codemirror_mode": {
    "name": "ipython",
    "version": 2
   },
   "file_extension": ".py",
   "mimetype": "text/x-python",
   "name": "python",
   "nbconvert_exporter": "python",
   "pygments_lexer": "ipython2",
   "version": "2.7.5"
  }
 },
 "nbformat": 4,
 "nbformat_minor": 0
}
