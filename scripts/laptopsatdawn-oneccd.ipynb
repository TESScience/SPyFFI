{
 "cells": [
  {
   "cell_type": "code",
   "execution_count": 1,
   "metadata": {
    "collapsed": false
   },
   "outputs": [],
   "source": [
    "# import a tool that allows you to create different kinds of TESS observations\n",
    "from SPyFFI import Observation"
   ]
  },
  {
   "cell_type": "code",
   "execution_count": 2,
   "metadata": {
    "collapsed": false
   },
   "outputs": [],
   "source": [
    "inputs = dict(\n",
    "\n",
    "# these are necessary to specify\n",
    "label='laptopsatdawn_nep',                # a label that will go into the output directory name\n",
    "ra = 270.000, dec=66.56071,           # coordinates of the focal plane center\n",
    "jitter=True,                          # should the spacecraft jitter?\n",
    "\n",
    "# what outputs should be produced?\n",
    "todo={120:10},                       # this will expose 100 images each at 120s cadences\n",
    "\n",
    "# these options are optional, and can make for interesting movies\n",
    "jitterscale=1.0,                      # by what factor should we magnify the jitter?\n",
    "warpspaceandtime=1.0,                 # by what factor do we multiply the speed of light (to see DVA)\n",
    "counterstep=1,                        # how many cadences (of the specified cadence) do we skip per frame? (to speed up time)\n",
    "\n",
    "# these options relate to how stars are populated with light curves\n",
    "fmax=0.00,                            # what fraction of eligible stars should get light curves\n",
    "magmax=None,                          # stars fainter than this magnitude don't get light curves\n",
    "extreme=False                        # if set to true, varaibility will be extreme (for movies)\n",
    ")\n"
   ]
  },
  {
   "cell_type": "code",
   "execution_count": 3,
   "metadata": {
    "collapsed": false
   },
   "outputs": [
    {
     "name": "stdout",
     "output_type": "stream",
     "text": [
      "       [skyffi] Creating a new Observation.\n",
      "       [skyffi] Setting up the camera for this Observation.\n",
      "       [camera] Turning on a new TESS camera object.\n",
      "       [camera] Setting cadence to 2 seconds = 1.0 reads.\n",
      "       [camera] Pointing the camera at (ra,dec) = 270.000000,66.560710\n",
      "          [psf] Initializing the TESS point spread function painter.\n",
      "          [psf] loaded PSF subpixel array definitions from\n",
      "                ... /Users/zkbt/Cosmos/Data/TESS/FFIs/intermediates/original/pixelarrays.npy\n",
      "      [perfect] Creating an intrapixel sensitivity map called perfectpixels\n",
      "       [jitter] Populating the jitterball for 2 second cadence.\n",
      "        [ucac4] loading a catalog of stars from\n",
      "                ... /Users/zkbt/Cosmos/Data/TESS/FFIs/intermediates/UCAC4_270.0_66.56071_17.70346373\n",
      "                ... 75.npy\n",
      "        [ucac4] found 1420240 stars with 2.23799991608 < V < 17.5189990997\n"
     ]
    }
   ],
   "source": [
    "# create a FFI of a particular patch of the sky, using catalog stars\n",
    "obs = Observation.SkyFFI(**inputs)"
   ]
  },
  {
   "cell_type": "code",
   "execution_count": 4,
   "metadata": {
    "collapsed": false
   },
   "outputs": [
    {
     "name": "stdout",
     "output_type": "stream",
     "text": [
      "        [ucac4] 1420240 stars are brighter than 18.258999059; populating 0.0% of them with light\n",
      "                ... curves\n"
     ]
    }
   ],
   "source": [
    "# add light curves to this observation's stellar catalog\n",
    "obs.addLCs(**inputs)"
   ]
  },
  {
   "cell_type": "code",
   "execution_count": 7,
   "metadata": {
    "collapsed": false
   },
   "outputs": [],
   "source": [
    "obs.camera.catalog.atEpoch?"
   ]
  },
  {
   "cell_type": "code",
   "execution_count": 40,
   "metadata": {
    "collapsed": false
   },
   "outputs": [
    {
     "name": "stdout",
     "output_type": "stream",
     "text": [
      "\n",
      "closest to camera center\n",
      "ccd1 (x, y) = (0,0) pixels\n",
      "focalplane (x, y) = (67.1666666667,67.1666666667) pixels\n",
      "celestial (ra, dec) = (268.994488427,66.9511964863) degrees\n",
      "\n",
      "farthest from camera center\n",
      "ccd1 (x, y) = (2047,2047) pixels\n",
      "focalplane (x, y) = (2114.16666667,2114.16666667) pixels\n",
      "celestial (ra, dec) = (222.669197832,73.6638867596) degrees\n",
      "\n",
      "the other two corners\n",
      "ccd1 (x, y) = (0,2047) pixels\n",
      "focalplane (x, y) = (67.1666666667,2114.16666667) pixels\n",
      "celestial (ra, dec) = (268.026038279,78.7576281934) degrees\n",
      "ccd1 (x, y) = (2047,0) pixels\n",
      "focalplane (x, y) = (2114.16666667,67.1666666667) pixels\n",
      "celestial (ra, dec) = (241.081462018,64.0794447339) degrees\n"
     ]
    }
   ],
   "source": [
    "# figure out the corners of the CCD\n",
    "carto = obs.camera.cartographer\n",
    "carto.setCCD(obs.camera.ccds[0])\n",
    "carto.pithy = True\n",
    "\n",
    "# the corner closest to the \n",
    "def report(x,y):\n",
    "    c = carto.point(x,y,'ccdxy')\n",
    "    print \"{0} pixels\".format(c.ccdxy)\n",
    "    print \"{0} pixels\".format(c.focalxy)\n",
    "    print \"{0} degrees\".format(c.celestial)\n",
    "\n",
    "\n",
    "\n",
    "print \"\\nclosest to camera center\"\n",
    "report(0,0)\n",
    "\n",
    "print \"\\nfarthest from camera center\"\n",
    "report(2047,2047)\n",
    "\n",
    "print \"\\nthe other two corners\"\n",
    "report(0,2047)\n",
    "report(2047,0)\n"
   ]
  },
  {
   "cell_type": "code",
   "execution_count": null,
   "metadata": {
    "collapsed": false
   },
   "outputs": [
    {
     "name": "stdout",
     "output_type": "stream",
     "text": [
      "       [camera] Setting cadence to 120 seconds = 60.0 reads.\n",
      "       [jitter] Populating the jitterball for 120 second cadence.\n",
      "       [jitter] Jittering the camera to -0.0703140045491,-0.0893734051301,-0.338751487966 away from\n",
      "                ... nominal pointing.\n",
      "          [ccd] Adding stars.\n",
      "          [ccd] projecting the starmap onto CCD\n",
      "          [ccd] setting up this CCD's starmap\n",
      "          [ccd] the camera already had a catalog of 1420240 elements defined; using it!\n",
      "          [ccd] taking an intial snapshot at 2457827.0 = 2017.20054757\n",
      "        [ucac4] projecting catalog 17.201 years relative to 2000\n",
      "          [ccd]   done!\n",
      "      [trimmed] projecting catalog 17.201 years relative to 2000\n",
      "      [trimmed] save projected star catalog /Users/zkbt/Cosmos/Data/TESS/FFIs/outputs/18h00m00s+66d3\n",
      "                ... 3m39s_laptopsatdawn_nep/120s/ccd1/catalog_18h00m00s+66d33m39s_ccd1.txt\n",
      "          [ccd] taking a snapshot at 2457827.0 = 2017.20054757\n",
      "      [trimmed] projecting catalog 17.201 years relative to 2000\n",
      "          [ccd]   done!\n",
      "          [ccd] adding 127865 stars to image\n",
      "          [psf] loaded binned PSFs from /Users/zkbt/Cosmos/Data/TESS/FFIs/intermediates/original/pix\n",
      "                ... elizedlibrary_0120s_10radii_21offsets_10degrees_10000K_perfectpixels.npy"
     ]
    }
   ],
   "source": [
    "# create the observation, generating all exposures\n",
    "obs.create(**inputs)"
   ]
  },
  {
   "cell_type": "code",
   "execution_count": null,
   "metadata": {
    "collapsed": false
   },
   "outputs": [],
   "source": []
  }
 ],
 "metadata": {
  "kernelspec": {
   "display_name": "Python 2",
   "language": "python",
   "name": "python2"
  },
  "language_info": {
   "codemirror_mode": {
    "name": "ipython",
    "version": 2
   },
   "file_extension": ".py",
   "mimetype": "text/x-python",
   "name": "python",
   "nbconvert_exporter": "python",
   "pygments_lexer": "ipython2",
   "version": "2.7.5"
  }
 },
 "nbformat": 4,
 "nbformat_minor": 0
}
