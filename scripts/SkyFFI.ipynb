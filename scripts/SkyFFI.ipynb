{
 "metadata": {
  "name": "",
  "signature": "sha256:4516dc01e3eca0aa1eae37008fbd3946389a12c5e2360b8a3be77e66485cecbe"
 },
 "nbformat": 3,
 "nbformat_minor": 0,
 "worksheets": [
  {
   "cells": [
    {
     "cell_type": "code",
     "collapsed": false,
     "input": [
      "# import a tool that allows you to create different kinds of TESS observations\n",
      "from SPyFFI import Observation"
     ],
     "language": "python",
     "metadata": {},
     "outputs": [
      {
       "output_type": "stream",
       "stream": "stdout",
       "text": [
        "/Users/zkbt/Dropbox/code/SPyFFI/data\n",
        "[lightcurve.py] reading McQuillan rotation table\n",
        "[lightcurve.py] reading Kepler TCE table"
       ]
      },
      {
       "output_type": "stream",
       "stream": "stdout",
       "text": [
        "\n"
       ]
      }
     ],
     "prompt_number": 1
    },
    {
     "cell_type": "code",
     "collapsed": false,
     "input": [
      "# create a FFI of a particular patch of the sky, using catalog stars\n",
      "obs = Observation.SkyFFI(\n",
      "                            label='laptopsatdawn_SkyFFI', # a label that will go into the output directory name\n",
      "                            ra = 270.000, dec=66.56071 # coordinates of the focal plane center\n",
      "                         )"
     ],
     "language": "python",
     "metadata": {},
     "outputs": [
      {
       "output_type": "stream",
       "stream": "stdout",
       "text": [
        "       [skyffi] Creating a new Observation.\n",
        "       [skyffi] Setting up the camera for this Observation.\n",
        "       [camera] Turning on a new TESS camera object.\n",
        "       [camera] Setting cadence to 2 seconds = 1.0 reads.\n",
        "       [camera] Pointing the camera at (ra,dec) = 270.000000,66.560710\n",
        "          [psf] Initializing the TESS point spread function painter.\n",
        "          [psf] loaded PSF subpixel array definitions from\n",
        "                ... /Users/zkbt/Cosmos/Data/TESS/FFIs/intermediates/original/pixelarrays.npy\n",
        "      [perfect] Creating an intrapixel sensitivity map called perfectpixels\n",
        "       [jitter] Populating the jitterball for 2 second cadence.\n",
        "        [ucac4] loading a catalog of stars from\n",
        "                ... /Users/zkbt/Cosmos/Data/TESS/FFIs/intermediates/UCAC4_270.0_66.56071_17.70346373\n",
        "                ... 75.npy"
       ]
      },
      {
       "output_type": "stream",
       "stream": "stdout",
       "text": [
        "\n",
        "        [ucac4] found 1420240 stars with 2.23799991608 < V < 17.5189990997"
       ]
      },
      {
       "output_type": "stream",
       "stream": "stdout",
       "text": [
        "\n"
       ]
      }
     ],
     "prompt_number": 2
    },
    {
     "cell_type": "code",
     "collapsed": false,
     "input": [
      "# add light curves to this observation's stellar catalog\n",
      "obs.addLCs(\n",
      "            fmax=0.01, # what fraction of eligible stars should get light curves\n",
      "            magmax=None, # stars fainter than this magnitude don't get light curves\n",
      "            extreme=False, # if set to true, varaibility will be extreme (for movies)\n",
      "          )"
     ],
     "language": "python",
     "metadata": {},
     "outputs": [
      {
       "output_type": "stream",
       "stream": "stdout",
       "text": [
        "        [ucac4] 1420240 stars are brighter than 18.258999059; populating 1.0% of them with light\n",
        "                ... curves\n"
       ]
      }
     ],
     "prompt_number": 3
    },
    {
     "cell_type": "code",
     "collapsed": false,
     "input": [
      "# create dictionary indicating how many exposures of each duration you would like\n",
      "todo = {2:3, 20:3, 120:3, 1800:3} # this will expose 3 images each at 2, 20, 120, and 1800s cadences"
     ],
     "language": "python",
     "metadata": {},
     "outputs": [],
     "prompt_number": 4
    },
    {
     "cell_type": "code",
     "collapsed": false,
     "input": [
      "# create the observation, generating all exposures\n",
      "obs.create(todo=todo)"
     ],
     "language": "python",
     "metadata": {},
     "outputs": [
      {
       "output_type": "stream",
       "stream": "stdout",
       "text": [
        "       [camera] Setting cadence to 120 seconds = 60.0 reads.\n",
        "       [jitter] Populating the jitterball for 120 second cadence.\n",
        "       [jitter] Jittering the camera to -0.0703140045491,-0.0893734051301,-0.338751487966 away from\n",
        "                ... nominal pointing.\n",
        "          [ccd] Adding stars.\n",
        "          [ccd] projecting the starmap onto CCD\n",
        "          [ccd] setting up this CCD's starmap\n",
        "          [ccd] the camera already had a catalog of 1420240 elements defined; using it!\n",
        "          [ccd] taking an intial snapshot at 2457827.0 = 2017.20054757\n",
        "        [ucac4] projecting catalog 17.201 years relative to 2000\n",
        "          [ccd]   done!"
       ]
      },
      {
       "output_type": "stream",
       "stream": "stdout",
       "text": [
        "\n",
        "      [trimmed] projecting catalog 17.201 years relative to 2000"
       ]
      }
     ]
    },
    {
     "cell_type": "code",
     "collapsed": false,
     "input": [],
     "language": "python",
     "metadata": {},
     "outputs": []
    }
   ],
   "metadata": {}
  }
 ]
}