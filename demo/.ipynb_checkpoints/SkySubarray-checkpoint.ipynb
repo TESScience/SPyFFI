{
 "cells": [
  {
   "cell_type": "markdown",
   "metadata": {},
   "source": [
    "Use SPyFFI to create a subarray.\n",
    "---\n",
    "Use this notebook if you want to create one (or many) subarray images of a small patch of the sky. It centers a TESS camera on the specified RA and Dec, and imagines there exists a CCD subarray centered at that location that can record data. In produces images in any cadence, with a variety of options.\n",
    "\n",
    "The easiest way to get simulated data out of this notebook is simply to modify the parameters set in the `inputs` dictionary defined below, and rerun the notebook. \n",
    "\n",
    "Please contact zkbt@mit.edu with questions and bug reports."
   ]
  },
  {
   "cell_type": "code",
   "execution_count": 1,
   "metadata": {
    "collapsed": false
   },
   "outputs": [
    {
     "ename": "SyntaxError",
     "evalue": "invalid syntax (<ipython-input-1-28859a22fd10>, line 10)",
     "output_type": "error",
     "traceback": [
      "\u001b[0;36m  File \u001b[0;32m\"<ipython-input-1-28859a22fd10>\"\u001b[0;36m, line \u001b[0;32m10\u001b[0m\n\u001b[0;31m    todo={2:3, 120:3, 1800:3},            # this will expose 3 images each at 2s, 120s, and 1800s\u001b[0m\n\u001b[0m       ^\u001b[0m\n\u001b[0;31mSyntaxError\u001b[0m\u001b[0;31m:\u001b[0m invalid syntax\n"
     ]
    }
   ],
   "source": [
    "# create a dictionary of inputs\n",
    "inputs = dict(\n",
    "\n",
    "# these are necessary to specify\n",
    "label='quicktest',                    # a label that will go into the output directory name\n",
    "ra = 153.716025, dec=-47.15679722,    # coordinates of the focal plane center\n",
    "subarray = 100,                        # the size of the desired subarray, in pixels\n",
    "\n",
    "# what outputs should be produced?\n",
    "todo={2:3, 120:3, 1800:3},            # this will expose 3 images each at 2s, 120s, and 1800s\n",
    "\n",
    "# these options are optional, and can make for interesting movies\n",
    "jitter=True,                          # should the spacecraft jitter?\n",
    "jitterscale=1.0,                      # by what factor should we magnify the jitter?\n",
    "warpspaceandtime=1.0,                 # by what factor do we multiply the speed of light (to see DVA)\n",
    "counterstep=1,                        # how many cadences (of the specified cadence) do we skip per frame? (to speed up time)\n",
    "\n",
    "# these options relate to how stars are populated with light curves\n",
    "fmax=0.00,                            # what fraction of eligible stars should get light curves\n",
    "magmax=None,                          # stars fainter than this magnitude don't get light curves\n",
    "extreme=False                         # if set to true, varaibility will be extreme (for movies)\n",
    ")\n"
   ]
  },
  {
   "cell_type": "code",
   "execution_count": null,
   "metadata": {
    "collapsed": false
   },
   "outputs": [],
   "source": [
    "# import a tool that allows you to create different kinds of TESS observations\n",
    "from SPyFFI import Observation\n",
    "\n",
    "# create a FFI of a particular patch of the sky, using catalog stars\n",
    "obs = Observation.SkySubarray(**inputs)\n",
    "\n",
    "# add light curves to this observation's stellar catalog\n",
    "obs.addLCs(**inputs)"
   ]
  },
  {
   "cell_type": "code",
   "execution_count": null,
   "metadata": {
    "collapsed": false
   },
   "outputs": [],
   "source": []
  },
  {
   "cell_type": "code",
   "execution_count": null,
   "metadata": {
    "collapsed": false
   },
   "outputs": [],
   "source": []
  },
  {
   "cell_type": "code",
   "execution_count": null,
   "metadata": {
    "collapsed": false
   },
   "outputs": [],
   "source": [
    "# figure out the corners of the CCD\n",
    "carto = obs.camera.cartographer\n",
    "carto.setCCD(obs.camera.ccds[0])\n",
    "carto.pithy = True\n",
    "\n",
    "# the corner closest to the \n",
    "def report(x,y):\n",
    "    c = carto.point(x,y,'ccdxy')\n",
    "    print \"{0} pixels\".format(c.ccdxy)\n",
    "    print \"{0} pixels\".format(c.focalxy)\n",
    "    print \"{0} degrees\".format(c.celestial)\n",
    "\n",
    "\n",
    "\n",
    "print \"\\nclosest to camera center\"\n",
    "report(0,0)\n",
    "\n",
    "print \"\\nfarthest from camera center\"\n",
    "report(2047,2047)\n",
    "\n",
    "print \"\\nthe other two corners\"\n",
    "report(0,2047)\n",
    "report(2047,0)\n"
   ]
  },
  {
   "cell_type": "code",
   "execution_count": null,
   "metadata": {
    "collapsed": false
   },
   "outputs": [],
   "source": [
    "# create the observation, generating all exposures\n",
    "obs.create(**inputs)"
   ]
  },
  {
   "cell_type": "code",
   "execution_count": null,
   "metadata": {
    "collapsed": false
   },
   "outputs": [],
   "source": []
  }
 ],
 "metadata": {
  "kernelspec": {
   "display_name": "Python 2",
   "language": "python",
   "name": "python2"
  },
  "language_info": {
   "codemirror_mode": {
    "name": "ipython",
    "version": 2
   },
   "file_extension": ".py",
   "mimetype": "text/x-python",
   "name": "python",
   "nbconvert_exporter": "python",
   "pygments_lexer": "ipython2",
   "version": "2.7.5"
  }
 },
 "nbformat": 4,
 "nbformat_minor": 0
}
